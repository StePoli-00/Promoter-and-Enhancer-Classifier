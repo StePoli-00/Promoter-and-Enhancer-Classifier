{
 "cells": [
  {
   "cell_type": "markdown",
   "metadata": {},
   "source": [
    "Rete per la gestione di dei dati con shape [32,seq_len, 768] tramite convoluzione 2D"
   ]
  },
  {
   "cell_type": "code",
   "execution_count": 1,
   "metadata": {},
   "outputs": [
    {
     "name": "stderr",
     "output_type": "stream",
     "text": [
      "/home/antoniodeblasi/anaconda3/envs/bioInfo/lib/python3.10/site-packages/tqdm/auto.py:21: TqdmWarning: IProgress not found. Please update jupyter and ipywidgets. See https://ipywidgets.readthedocs.io/en/stable/user_install.html\n",
      "  from .autonotebook import tqdm as notebook_tqdm\n"
     ]
    }
   ],
   "source": [
    "\n",
    "import numpy as np\n",
    "from sklearn.model_selection import train_test_split\n",
    "import json\n",
    "from torch.utils.data import Dataset\n",
    "import os\n",
    "import pytorch_lightning as pl\n",
    "import torch\n",
    "import torch.nn as nn\n",
    "import torch.nn.functional as F\n",
    "import torchmetrics\n",
    "\n"
   ]
  },
  {
   "cell_type": "code",
   "execution_count": 3,
   "metadata": {},
   "outputs": [],
   "source": [
    "\n",
    "class MyDataSet(Dataset):\n",
    "    def __init__(self, path):\n",
    "        self.path = path\n",
    "        self.df_sequences = os.listdir(path+'/embeddings')\n",
    "        self.df_labels = os.listdir(path+'/labels')\n",
    "\n",
    "    def __len__(self):\n",
    "        return len(self.df_sequences)\n",
    "\n",
    "    def __getitem__(self, index):\n",
    "        sequence = torch.load(self.path+'/embeddings/'+self.df_sequences[index])\n",
    "\n",
    "        label = torch.load(self.path+'/labels/'+self.df_labels[index]).float()\n",
    "        \n",
    "\n",
    "        return sequence, label"
   ]
  },
  {
   "cell_type": "code",
   "execution_count": 4,
   "metadata": {},
   "outputs": [],
   "source": [
    "DataTrainpath=\"/home/antoniodeblasi/Scaricati/Dataset_V1\"\n",
    "DataTestpath=\"/home/antoniodeblasi/Scaricati/Dataset_V1_testing\"\n",
    "DataValpath=\"/home/antoniodeblasi/Scaricati/Dataset_V1_validation\"\n",
    "\n",
    "\n",
    "train_data_object = MyDataSet(DataTrainpath)\n",
    "test_data_object = MyDataSet(DataTestpath)\n",
    "val_data_object = MyDataSet(DataValpath)\n",
    "\n",
    "\n",
    "def collate(batch):\n",
    "  (a, b) = batch[0]\n",
    "\n",
    "  a = a.unsqueeze(1)\n",
    "  return (a,b)"
   ]
  },
  {
   "cell_type": "code",
   "execution_count": 5,
   "metadata": {},
   "outputs": [
    {
     "name": "stdout",
     "output_type": "stream",
     "text": [
      "torch.Size([32, 1, 138, 768])\n"
     ]
    }
   ],
   "source": [
    "for seq, _ in torch.utils.data.DataLoader(train_data_object,\n",
    "        batch_size=1, shuffle = False, collate_fn=collate):\n",
    "    print(seq.shape)\n",
    "    break"
   ]
  },
  {
   "cell_type": "code",
   "execution_count": 6,
   "metadata": {},
   "outputs": [],
   "source": [
    "\n",
    "class MyDataModule(pl.LightningDataModule):\n",
    "\n",
    "  def setup(self, stage):\n",
    "    self.dataset = \"\"#MyDataSet(\"\")\n",
    "\n",
    "\n",
    "  def train_dataloader(self):\n",
    "    return torch.utils.data.DataLoader(train_data_object,\n",
    "        batch_size=1, shuffle = False, collate_fn=collate)\n",
    "  def val_dataloader(self):\n",
    "    return torch.utils.data.DataLoader(val_data_object,\n",
    "        batch_size=1, shuffle = False, collate_fn=collate)\n",
    "  def test_dataloader(self):\n",
    "    return torch.utils.data.DataLoader(test_data_object,\n",
    "       batch_size=1, shuffle = False, collate_fn=collate)\n"
   ]
  },
  {
   "cell_type": "code",
   "execution_count": 9,
   "metadata": {},
   "outputs": [],
   "source": [
    "\n",
    "\n",
    "class CNN(pl.LightningModule):\n",
    "    def __init__(self):\n",
    "        super(CNN, self).__init__()\n",
    "        self.conv1 = nn.Conv2d(in_channels=1, out_channels=32, kernel_size=3)\n",
    "        self.conv2 = nn.Conv2d(in_channels=32, out_channels=64, kernel_size=3)\n",
    "        self.conv3 = nn.Conv2d(in_channels=64, out_channels=128, kernel_size=3)\n",
    "        self.pool = nn.MaxPool2d(2)\n",
    "        self.global_avg_pool = nn.AdaptiveAvgPool2d(1)  # Pooling globale per ridurre le dimensioni\n",
    "\n",
    "        self.fc1 = nn.Linear(128, 64)\n",
    "        self.fc2 = nn.Linear(64, 1)\n",
    "        self.sigmoid = nn.Sigmoid()\n",
    "        \n",
    "        # for validation/testing\n",
    "        self.accuracy = torchmetrics.Accuracy(task=\"binary\")\n",
    "\n",
    "    def forward(self, x):\n",
    "        x = torch.relu(self.conv1(x))\n",
    "        x = self.pool(x)\n",
    "        x = torch.relu(self.conv2(x))\n",
    "        x = self.pool(x)\n",
    "        x = torch.relu(self.conv3(x))\n",
    "        x = self.global_avg_pool(x)\n",
    "        x = torch.relu(self.fc1(x.squeeze()))\n",
    "        x = self.sigmoid(self.fc2(x))\n",
    "        return x\n",
    "\n",
    "    def cross_entropy_loss(self, logits, labels):\n",
    "      return F.binary_cross_entropy(logits, labels)\n",
    "\n",
    "    def training_step(self, train_batch, batch_idx):\n",
    "        x, y = train_batch\n",
    "        logits = self.forward(x).squeeze()\n",
    "        loss = self.cross_entropy_loss(logits, y)\n",
    "        self.log('train_loss', loss)\n",
    "        return loss\n",
    "\n",
    "\n",
    "    def validation_step(self, val_batch, batch_idx):\n",
    "        x, y = val_batch\n",
    "        logits = self.forward(x).squeeze()\n",
    "        loss = self.cross_entropy_loss(logits, y)\n",
    "        acc = self.accuracy(logits,y)\n",
    "        \n",
    "        self.log('val_loss', loss)\n",
    "        self.log('val_accuracy', acc)\n",
    "\n",
    "    def test_step(self, test_batch, batch_idx):\n",
    "        x, y = test_batch\n",
    "        logits = self.forward(x).squeeze()\n",
    "        loss = self.cross_entropy_loss(logits, y)\n",
    "        acc = self.accuracy(logits,y)\n",
    "        \n",
    "        self.log('test_loss', loss)\n",
    "        self.log('test_accuracy', acc)\n",
    "\n",
    "    def configure_optimizers(self):\n",
    "      optimizer = torch.optim.SGD(model.parameters(), lr=0.001, momentum=0.8)\n",
    "      return optimizer\n",
    "\n",
    "# Creazione del modello\n",
    "model = CNN()"
   ]
  },
  {
   "cell_type": "code",
   "execution_count": 10,
   "metadata": {},
   "outputs": [
    {
     "name": "stderr",
     "output_type": "stream",
     "text": [
      "GPU available: True (cuda), used: True\n",
      "TPU available: False, using: 0 TPU cores\n",
      "IPU available: False, using: 0 IPUs\n",
      "HPU available: False, using: 0 HPUs\n",
      "LOCAL_RANK: 0 - CUDA_VISIBLE_DEVICES: [0]\n",
      "\n",
      "  | Name            | Type              | Params\n",
      "------------------------------------------------------\n",
      "0 | conv1           | Conv2d            | 320   \n",
      "1 | conv2           | Conv2d            | 18.5 K\n",
      "2 | conv3           | Conv2d            | 73.9 K\n",
      "3 | pool            | MaxPool2d         | 0     \n",
      "4 | global_avg_pool | AdaptiveAvgPool2d | 0     \n",
      "5 | fc1             | Linear            | 8.3 K \n",
      "6 | fc2             | Linear            | 65    \n",
      "7 | sigmoid         | Sigmoid           | 0     \n",
      "8 | accuracy        | BinaryAccuracy    | 0     \n",
      "------------------------------------------------------\n",
      "100 K     Trainable params\n",
      "0         Non-trainable params\n",
      "100 K     Total params\n",
      "0.404     Total estimated model params size (MB)\n"
     ]
    },
    {
     "name": "stdout",
     "output_type": "stream",
     "text": [
      "Epoch 39: 100%|██████████| 765/765 [00:57<00:00, 13.38it/s, v_num=43]      "
     ]
    },
    {
     "name": "stderr",
     "output_type": "stream",
     "text": [
      "`Trainer.fit` stopped: `max_epochs=40` reached.\n"
     ]
    },
    {
     "name": "stdout",
     "output_type": "stream",
     "text": [
      "Epoch 39: 100%|██████████| 765/765 [00:57<00:00, 13.38it/s, v_num=43]\n"
     ]
    },
    {
     "name": "stderr",
     "output_type": "stream",
     "text": [
      "LOCAL_RANK: 0 - CUDA_VISIBLE_DEVICES: [0]\n"
     ]
    },
    {
     "name": "stdout",
     "output_type": "stream",
     "text": [
      "Testing DataLoader 0: 100%|██████████| 96/96 [00:03<00:00, 31.64it/s]\n"
     ]
    },
    {
     "data": {
      "text/html": [
       "<pre style=\"white-space:pre;overflow-x:auto;line-height:normal;font-family:Menlo,'DejaVu Sans Mono',consolas,'Courier New',monospace\">┏━━━━━━━━━━━━━━━━━━━━━━━━━━━┳━━━━━━━━━━━━━━━━━━━━━━━━━━━┓\n",
       "┃<span style=\"font-weight: bold\">        Test metric        </span>┃<span style=\"font-weight: bold\">       DataLoader 0        </span>┃\n",
       "┡━━━━━━━━━━━━━━━━━━━━━━━━━━━╇━━━━━━━━━━━━━━━━━━━━━━━━━━━┩\n",
       "│<span style=\"color: #008080; text-decoration-color: #008080\">       test_accuracy       </span>│<span style=\"color: #800080; text-decoration-color: #800080\">       0.5322265625        </span>│\n",
       "│<span style=\"color: #008080; text-decoration-color: #008080\">         test_loss         </span>│<span style=\"color: #800080; text-decoration-color: #800080\">    0.6908988356590271     </span>│\n",
       "└───────────────────────────┴───────────────────────────┘\n",
       "</pre>\n"
      ],
      "text/plain": [
       "┏━━━━━━━━━━━━━━━━━━━━━━━━━━━┳━━━━━━━━━━━━━━━━━━━━━━━━━━━┓\n",
       "┃\u001b[1m \u001b[0m\u001b[1m       Test metric       \u001b[0m\u001b[1m \u001b[0m┃\u001b[1m \u001b[0m\u001b[1m      DataLoader 0       \u001b[0m\u001b[1m \u001b[0m┃\n",
       "┡━━━━━━━━━━━━━━━━━━━━━━━━━━━╇━━━━━━━━━━━━━━━━━━━━━━━━━━━┩\n",
       "│\u001b[36m \u001b[0m\u001b[36m      test_accuracy      \u001b[0m\u001b[36m \u001b[0m│\u001b[35m \u001b[0m\u001b[35m      0.5322265625       \u001b[0m\u001b[35m \u001b[0m│\n",
       "│\u001b[36m \u001b[0m\u001b[36m        test_loss        \u001b[0m\u001b[36m \u001b[0m│\u001b[35m \u001b[0m\u001b[35m   0.6908988356590271    \u001b[0m\u001b[35m \u001b[0m│\n",
       "└───────────────────────────┴───────────────────────────┘\n"
      ]
     },
     "metadata": {},
     "output_type": "display_data"
    },
    {
     "name": "stdout",
     "output_type": "stream",
     "text": [
      "Loss sul set di validazione: [{'test_loss': 0.6908988356590271, 'test_accuracy': 0.5322265625}]\n"
     ]
    }
   ],
   "source": [
    "\n",
    "trainer = pl.Trainer(max_epochs=40)\n",
    "\n",
    "data_module = MyDataModule()\n",
    "\n",
    "trainer.fit(model, data_module)\n",
    "# Valutazione del modello\n",
    "p = trainer.test(model, data_module)\n",
    "print(\"Loss sul set di validazione:\", p)\n",
    "\n",
    "\n"
   ]
  }
 ],
 "metadata": {
  "kernelspec": {
   "display_name": "bioInfo",
   "language": "python",
   "name": "python3"
  },
  "language_info": {
   "codemirror_mode": {
    "name": "ipython",
    "version": 3
   },
   "file_extension": ".py",
   "mimetype": "text/x-python",
   "name": "python",
   "nbconvert_exporter": "python",
   "pygments_lexer": "ipython3",
   "version": "3.10.13"
  }
 },
 "nbformat": 4,
 "nbformat_minor": 2
}
