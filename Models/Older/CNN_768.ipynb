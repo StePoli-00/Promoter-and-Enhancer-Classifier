{
 "cells": [
  {
   "cell_type": "markdown",
   "metadata": {},
   "source": [
    "Rete per la gestione di dei dati con shape [32,768] tramite convoluzione 1D"
   ]
  },
  {
   "cell_type": "code",
   "execution_count": 1,
   "metadata": {},
   "outputs": [
    {
     "name": "stderr",
     "output_type": "stream",
     "text": [
      "/home/antoniodeblasi/anaconda3/envs/bioInfo/lib/python3.10/site-packages/tqdm/auto.py:21: TqdmWarning: IProgress not found. Please update jupyter and ipywidgets. See https://ipywidgets.readthedocs.io/en/stable/user_install.html\n",
      "  from .autonotebook import tqdm as notebook_tqdm\n"
     ]
    }
   ],
   "source": [
    "import numpy as np\n",
    "from sklearn.model_selection import train_test_split\n",
    "from torch.utils.data import Dataset"
   ]
  },
  {
   "cell_type": "code",
   "execution_count": 2,
   "metadata": {},
   "outputs": [],
   "source": [
    "import os"
   ]
  },
  {
   "cell_type": "code",
   "execution_count": 3,
   "metadata": {},
   "outputs": [],
   "source": [
    "import torch\n",
    "\n",
    "class MyDataSet(Dataset):\n",
    "    def __init__(self, path):\n",
    "        self.path = path\n",
    "        self.df_sequences = os.listdir(path+'/embeddings')\n",
    "        self.df_labels = os.listdir(path+'/labels')\n",
    "\n",
    "    def __len__(self):\n",
    "        return len(self.df_sequences)\n",
    "\n",
    "    def __getitem__(self, index):\n",
    "        sequence = torch.load(self.path+'/embeddings/'+self.df_sequences[index])#.swapaxes(1,2)\n",
    "  \n",
    "        sequence = torch.mean(sequence, dim=1) #[32, 138,768] --> [32, 768]\n",
    "        sequence = sequence.unsqueeze(dim=1)   #[32,768] --> [32,1,768] for the convolution\n",
    "        label = torch.load(self.path+'/labels/'+self.df_labels[index]).float()\n",
    "        return sequence, label"
   ]
  },
  {
   "cell_type": "code",
   "execution_count": 4,
   "metadata": {},
   "outputs": [],
   "source": [
    "DataTrainpath=\"/home/antoniodeblasi/Scaricati/Dataset_V1\"\n",
    "DataTestpath=\"/home/antoniodeblasi/Scaricati/Dataset_V1_testing\"\n",
    "DataValpath=\"/home/antoniodeblasi/Scaricati/Dataset_V1_validation\"\n",
    "\n",
    "#/admin:///ai4bioinfo2023/project_15/Training_N/DatasetN\n",
    "\n",
    "# Create custom dataset object\n",
    "train_data_object = MyDataSet(DataTrainpath)\n",
    "test_data_object = MyDataSet(DataTestpath)\n",
    "val_data_object = MyDataSet(DataValpath)\n",
    "\n",
    "def collate(batch):\n",
    "  return batch[0]\n",
    "\n"
   ]
  },
  {
   "cell_type": "code",
   "execution_count": 5,
   "metadata": {},
   "outputs": [
    {
     "name": "stdout",
     "output_type": "stream",
     "text": [
      "torch.Size([32, 1, 768])\n"
     ]
    }
   ],
   "source": [
    "for seq, _ in torch.utils.data.DataLoader(train_data_object,\n",
    "        batch_size=1, shuffle = False, collate_fn=collate):\n",
    "    print(seq.shape)\n",
    "    break"
   ]
  },
  {
   "cell_type": "code",
   "execution_count": 6,
   "metadata": {},
   "outputs": [],
   "source": [
    "import pytorch_lightning as pl"
   ]
  },
  {
   "cell_type": "code",
   "execution_count": 7,
   "metadata": {},
   "outputs": [],
   "source": [
    "class MyDataModule(pl.LightningDataModule):\n",
    "\n",
    "  def setup(self, stage):\n",
    "    self.dataset = \"\"#MyDataSet(\"\")\n",
    "\n",
    "\n",
    "  def train_dataloader(self):\n",
    "    return torch.utils.data.DataLoader(train_data_object,\n",
    "        batch_size=1, shuffle = False, collate_fn=collate)\n",
    "  def val_dataloader(self):\n",
    "    return torch.utils.data.DataLoader(val_data_object,\n",
    "        batch_size=1, shuffle = False, collate_fn=collate)\n",
    "  def test_dataloader(self):\n",
    "    return torch.utils.data.DataLoader(test_data_object,\n",
    "       batch_size=1, shuffle = False, collate_fn=collate)\n",
    "\n"
   ]
  },
  {
   "cell_type": "code",
   "execution_count": 32,
   "metadata": {},
   "outputs": [],
   "source": [
    "import torch\n",
    "import torch.nn as nn\n",
    "import torch.nn.functional as F\n",
    "import torchmetrics\n",
    "\n",
    "class CNN(pl.LightningModule):\n",
    "    def __init__(self):\n",
    "        super(CNN, self).__init__()\n",
    "        self.conv1 = nn.Conv1d(in_channels=1, out_channels=32, kernel_size=3)\n",
    "        self.conv2 = nn.Conv1d(in_channels=32, out_channels=64, kernel_size=3)\n",
    "        self.conv3 = nn.Conv1d(in_channels=64, out_channels=128, kernel_size=3)\n",
    "        self.pool = nn.MaxPool1d(2)\n",
    "        self.global_avg_pool = nn.AdaptiveAvgPool1d(1)  # Pooling globale per ridurre le dimensioni\n",
    "\n",
    "        self.fc1 = nn.Linear(128, 64)\n",
    "        self.fc2 = nn.Linear(64, 1)\n",
    "        self.sigmoid = nn.Sigmoid()\n",
    "        \n",
    "        # for validation/testing\n",
    "        self.accuracy = torchmetrics.Accuracy(task=\"binary\")\n",
    "\n",
    "\n",
    "    def forward(self, x):\n",
    "        x = torch.relu(self.conv1(x))\n",
    "        x = self.pool(x)\n",
    "        x = torch.relu(self.conv2(x))\n",
    "        x = self.pool(x)\n",
    "        x = torch.relu(self.conv3(x))\n",
    "        x = self.global_avg_pool(x)\n",
    "        x = torch.relu(self.fc1(x.squeeze()))\n",
    "        x = self.sigmoid(self.fc2(x))\n",
    "        return x\n",
    "\n",
    "    def cross_entropy_loss(self, logits, labels):\n",
    "      return F.binary_cross_entropy(logits, labels)\n",
    "\n",
    "    def training_step(self, train_batch, batch_idx):\n",
    "        x, y = train_batch\n",
    "        logits = self.forward(x).squeeze()\n",
    "        loss = self.cross_entropy_loss(logits, y)\n",
    "        self.log('train_loss', loss)\n",
    "        \n",
    "        \n",
    "        return loss\n",
    "\n",
    "\n",
    "    def validation_step(self, val_batch, batch_idx):\n",
    "        x, y = val_batch\n",
    "        logits = self.forward(x).squeeze()\n",
    "        loss = self.cross_entropy_loss(logits, y)\n",
    "        acc = self.accuracy(logits,y)\n",
    "        \n",
    "        self.log('val_loss', loss)\n",
    "        self.log('val_accuracy', acc)\n",
    "        \n",
    "        \n",
    "        \n",
    "\n",
    "    def test_step(self, test_batch, batch_idx):\n",
    "        x, y = test_batch\n",
    "        logits = self.forward(x).squeeze()\n",
    "        loss = self.cross_entropy_loss(logits, y)\n",
    "        accuracy = torchmetrics.Accuracy(task=\"binary\").cuda()\n",
    "        print(y.shape)\n",
    "        print(logits.shape)\n",
    "        train_accuracy = torch.sum(y == logits)/logits.shape[0]\n",
    "\n",
    "        acc = accuracy(logits,y)\n",
    "        \n",
    "        self.log('test_loss', loss)\n",
    "        self.log('test_accuracy', train_accuracy)\n",
    "\n",
    "    def configure_optimizers(self):\n",
    "      optimizer = torch.optim.SGD(model.parameters(), lr=0.001, momentum=0.8)\n",
    "      return optimizer\n",
    "\n",
    "# Creazione del modello\n",
    "model = CNN()\n"
   ]
  },
  {
   "cell_type": "code",
   "execution_count": 72,
   "metadata": {},
   "outputs": [
    {
     "name": "stdout",
     "output_type": "stream",
     "text": [
      "tensor([0.5346], grad_fn=<SigmoidBackward0>)\n"
     ]
    }
   ],
   "source": [
    "x = torch.zeros(1,1,768)\n",
    "y = mod(x)\n",
    "print(y)"
   ]
  },
  {
   "cell_type": "code",
   "execution_count": null,
   "metadata": {},
   "outputs": [],
   "source": [
    "for i, el in enumerate(test_data_object):\n",
    "\n",
    "    x = el[0]\n",
    "    print(mod(x))"
   ]
  },
  {
   "cell_type": "code",
   "execution_count": 33,
   "metadata": {},
   "outputs": [
    {
     "name": "stderr",
     "output_type": "stream",
     "text": [
      "GPU available: True (cuda), used: True\n",
      "TPU available: False, using: 0 TPU cores\n",
      "IPU available: False, using: 0 IPUs\n",
      "HPU available: False, using: 0 HPUs\n",
      "LOCAL_RANK: 0 - CUDA_VISIBLE_DEVICES: [0]\n",
      "/home/antoniodeblasi/anaconda3/envs/bioInfo/lib/python3.10/site-packages/pytorch_lightning/trainer/connectors/data_connector.py:441: The 'test_dataloader' does not have many workers which may be a bottleneck. Consider increasing the value of the `num_workers` argument` to `num_workers=15` in the `DataLoader` to improve performance.\n"
     ]
    },
    {
     "name": "stdout",
     "output_type": "stream",
     "text": [
      "Testing DataLoader 0:   0%|          | 0/96 [00:00<?, ?it/s]torch.Size([32])\n",
      "torch.Size([32])\n",
      "Testing DataLoader 0:   1%|          | 1/96 [00:00<00:00, 199.40it/s]torch.Size([32])\n",
      "torch.Size([32])\n",
      "Testing DataLoader 0:   2%|▏         | 2/96 [00:00<00:00, 115.86it/s]torch.Size([32])\n",
      "torch.Size([32])\n",
      "Testing DataLoader 0:   3%|▎         | 3/96 [00:00<00:00, 98.19it/s] torch.Size([32])\n",
      "torch.Size([32])\n",
      "Testing DataLoader 0:   4%|▍         | 4/96 [00:00<00:01, 91.23it/s]torch.Size([32])\n",
      "torch.Size([32])\n",
      "Testing DataLoader 0:   5%|▌         | 5/96 [00:00<00:01, 88.37it/s]torch.Size([32])\n",
      "torch.Size([32])\n",
      "Testing DataLoader 0:   6%|▋         | 6/96 [00:00<00:01, 84.92it/s]torch.Size([32])\n",
      "torch.Size([32])\n",
      "Testing DataLoader 0:   7%|▋         | 7/96 [00:00<00:01, 83.51it/s]torch.Size([32])\n",
      "torch.Size([32])\n",
      "Testing DataLoader 0:   8%|▊         | 8/96 [00:00<00:01, 84.30it/s]torch.Size([32])\n",
      "torch.Size([32])\n",
      "Testing DataLoader 0:   9%|▉         | 9/96 [00:00<00:01, 82.17it/s]torch.Size([32])\n",
      "torch.Size([32])\n",
      "Testing DataLoader 0:  10%|█         | 10/96 [00:00<00:01, 80.99it/s]torch.Size([32])\n",
      "torch.Size([32])\n",
      "Testing DataLoader 0:  11%|█▏        | 11/96 [00:00<00:01, 81.54it/s]torch.Size([32])\n",
      "torch.Size([32])\n",
      "Testing DataLoader 0:  12%|█▎        | 12/96 [00:00<00:01, 81.27it/s]torch.Size([32])\n",
      "torch.Size([32])\n",
      "Testing DataLoader 0:  14%|█▎        | 13/96 [00:00<00:01, 81.44it/s]torch.Size([32])\n",
      "torch.Size([32])\n",
      "Testing DataLoader 0:  15%|█▍        | 14/96 [00:00<00:01, 81.02it/s]torch.Size([32])\n",
      "torch.Size([32])\n",
      "Testing DataLoader 0:  16%|█▌        | 15/96 [00:00<00:01, 78.74it/s]torch.Size([32])\n",
      "torch.Size([32])\n",
      "Testing DataLoader 0:  17%|█▋        | 16/96 [00:00<00:01, 78.16it/s]torch.Size([32])\n",
      "torch.Size([32])\n",
      "Testing DataLoader 0:  18%|█▊        | 17/96 [00:00<00:01, 77.62it/s]torch.Size([32])\n",
      "torch.Size([32])\n",
      "Testing DataLoader 0:  19%|█▉        | 18/96 [00:00<00:01, 77.18it/s]torch.Size([32])\n",
      "torch.Size([32])\n",
      "Testing DataLoader 0:  20%|█▉        | 19/96 [00:00<00:01, 76.84it/s]torch.Size([32])\n",
      "torch.Size([32])\n",
      "Testing DataLoader 0:  21%|██        | 20/96 [00:00<00:00, 76.14it/s]torch.Size([32])\n",
      "torch.Size([32])\n",
      "Testing DataLoader 0:  22%|██▏       | 21/96 [00:00<00:00, 75.84it/s]torch.Size([32])\n",
      "torch.Size([32])\n",
      "Testing DataLoader 0:  23%|██▎       | 22/96 [00:00<00:00, 76.16it/s]torch.Size([32])\n",
      "torch.Size([32])\n",
      "Testing DataLoader 0:  24%|██▍       | 23/96 [00:00<00:01, 72.69it/s]torch.Size([32])\n",
      "torch.Size([32])\n",
      "Testing DataLoader 0:  25%|██▌       | 24/96 [00:00<00:00, 72.47it/s]torch.Size([32])\n",
      "torch.Size([32])\n",
      "Testing DataLoader 0:  26%|██▌       | 25/96 [00:00<00:01, 69.39it/s]torch.Size([32])\n",
      "torch.Size([32])\n",
      "Testing DataLoader 0:  27%|██▋       | 26/96 [00:00<00:01, 68.23it/s]torch.Size([32])\n",
      "torch.Size([32])\n",
      "Testing DataLoader 0:  28%|██▊       | 27/96 [00:00<00:01, 68.08it/s]torch.Size([32])\n",
      "torch.Size([32])\n",
      "Testing DataLoader 0:  29%|██▉       | 28/96 [00:00<00:01, 66.00it/s]torch.Size([32])\n",
      "torch.Size([32])\n",
      "Testing DataLoader 0:  30%|███       | 29/96 [00:00<00:01, 65.62it/s]torch.Size([32])\n",
      "torch.Size([32])\n",
      "Testing DataLoader 0:  31%|███▏      | 30/96 [00:00<00:01, 65.61it/s]torch.Size([32])\n",
      "torch.Size([32])\n",
      "Testing DataLoader 0:  32%|███▏      | 31/96 [00:00<00:00, 65.90it/s]torch.Size([32])\n",
      "torch.Size([32])\n",
      "Testing DataLoader 0:  33%|███▎      | 32/96 [00:00<00:00, 66.07it/s]torch.Size([32])\n",
      "torch.Size([32])\n",
      "Testing DataLoader 0:  34%|███▍      | 33/96 [00:00<00:00, 66.34it/s]torch.Size([32])\n",
      "torch.Size([32])\n",
      "Testing DataLoader 0:  35%|███▌      | 34/96 [00:00<00:00, 66.35it/s]torch.Size([32])\n",
      "torch.Size([32])\n",
      "Testing DataLoader 0:  36%|███▋      | 35/96 [00:00<00:00, 64.82it/s]torch.Size([32])\n",
      "torch.Size([32])\n",
      "Testing DataLoader 0:  38%|███▊      | 36/96 [00:00<00:00, 64.53it/s]torch.Size([32])\n",
      "torch.Size([32])\n",
      "Testing DataLoader 0:  39%|███▊      | 37/96 [00:00<00:00, 64.59it/s]torch.Size([32])\n",
      "torch.Size([32])\n",
      "Testing DataLoader 0:  40%|███▉      | 38/96 [00:00<00:00, 64.90it/s]torch.Size([32])\n",
      "torch.Size([32])\n",
      "Testing DataLoader 0:  41%|████      | 39/96 [00:00<00:00, 63.93it/s]torch.Size([32])\n",
      "torch.Size([32])\n",
      "Testing DataLoader 0:  42%|████▏     | 40/96 [00:00<00:00, 64.28it/s]torch.Size([32])\n",
      "torch.Size([32])\n",
      "Testing DataLoader 0:  43%|████▎     | 41/96 [00:00<00:00, 64.53it/s]torch.Size([32])\n",
      "torch.Size([32])\n",
      "Testing DataLoader 0:  44%|████▍     | 42/96 [00:00<00:00, 63.00it/s]torch.Size([32])\n",
      "torch.Size([32])\n",
      "Testing DataLoader 0:  45%|████▍     | 43/96 [00:00<00:00, 63.16it/s]torch.Size([32])\n",
      "torch.Size([32])\n",
      "Testing DataLoader 0:  46%|████▌     | 44/96 [00:00<00:00, 63.38it/s]torch.Size([32])\n",
      "torch.Size([32])\n",
      "Testing DataLoader 0:  47%|████▋     | 45/96 [00:00<00:00, 63.58it/s]torch.Size([32])\n",
      "torch.Size([32])\n",
      "Testing DataLoader 0:  48%|████▊     | 46/96 [00:00<00:00, 63.77it/s]torch.Size([32])\n",
      "torch.Size([32])\n",
      "Testing DataLoader 0:  49%|████▉     | 47/96 [00:00<00:00, 63.98it/s]torch.Size([32])\n",
      "torch.Size([32])\n",
      "Testing DataLoader 0:  50%|█████     | 48/96 [00:00<00:00, 64.10it/s]torch.Size([32])\n",
      "torch.Size([32])\n",
      "Testing DataLoader 0:  51%|█████     | 49/96 [00:00<00:00, 63.24it/s]torch.Size([32])\n",
      "torch.Size([32])\n",
      "Testing DataLoader 0:  52%|█████▏    | 50/96 [00:00<00:00, 63.30it/s]torch.Size([32])\n",
      "torch.Size([32])\n",
      "Testing DataLoader 0:  53%|█████▎    | 51/96 [00:00<00:00, 63.35it/s]torch.Size([32])\n",
      "torch.Size([32])\n",
      "Testing DataLoader 0:  54%|█████▍    | 52/96 [00:00<00:00, 63.52it/s]torch.Size([32])\n",
      "torch.Size([32])\n",
      "Testing DataLoader 0:  55%|█████▌    | 53/96 [00:00<00:00, 62.67it/s]torch.Size([32])\n",
      "torch.Size([32])\n",
      "Testing DataLoader 0:  56%|█████▋    | 54/96 [00:00<00:00, 62.58it/s]torch.Size([32])\n",
      "torch.Size([32])\n",
      "Testing DataLoader 0:  57%|█████▋    | 55/96 [00:00<00:00, 62.81it/s]torch.Size([32])\n",
      "torch.Size([32])\n",
      "Testing DataLoader 0:  58%|█████▊    | 56/96 [00:00<00:00, 63.04it/s]torch.Size([32])\n",
      "torch.Size([32])\n",
      "Testing DataLoader 0:  59%|█████▉    | 57/96 [00:00<00:00, 63.17it/s]torch.Size([32])\n",
      "torch.Size([32])\n",
      "Testing DataLoader 0:  60%|██████    | 58/96 [00:00<00:00, 63.46it/s]torch.Size([32])\n",
      "torch.Size([32])\n",
      "Testing DataLoader 0:  61%|██████▏   | 59/96 [00:00<00:00, 63.50it/s]torch.Size([32])\n",
      "torch.Size([32])\n",
      "Testing DataLoader 0:  62%|██████▎   | 60/96 [00:00<00:00, 63.58it/s]torch.Size([32])\n",
      "torch.Size([32])\n",
      "Testing DataLoader 0:  64%|██████▎   | 61/96 [00:00<00:00, 63.73it/s]torch.Size([32])\n",
      "torch.Size([32])\n",
      "Testing DataLoader 0:  65%|██████▍   | 62/96 [00:00<00:00, 63.79it/s]torch.Size([32])\n",
      "torch.Size([32])\n",
      "Testing DataLoader 0:  66%|██████▌   | 63/96 [00:00<00:00, 63.88it/s]torch.Size([32])\n",
      "torch.Size([32])\n",
      "Testing DataLoader 0:  67%|██████▋   | 64/96 [00:00<00:00, 64.04it/s]torch.Size([32])\n",
      "torch.Size([32])\n",
      "Testing DataLoader 0:  68%|██████▊   | 65/96 [00:01<00:00, 64.15it/s]torch.Size([32])\n",
      "torch.Size([32])\n",
      "Testing DataLoader 0:  69%|██████▉   | 66/96 [00:01<00:00, 64.26it/s]torch.Size([32])\n",
      "torch.Size([32])\n",
      "Testing DataLoader 0:  70%|██████▉   | 67/96 [00:01<00:00, 64.42it/s]torch.Size([32])\n",
      "torch.Size([32])\n",
      "Testing DataLoader 0:  71%|███████   | 68/96 [00:01<00:00, 64.50it/s]torch.Size([32])\n",
      "torch.Size([32])\n",
      "Testing DataLoader 0:  72%|███████▏  | 69/96 [00:01<00:00, 64.52it/s]torch.Size([32])\n",
      "torch.Size([32])\n",
      "Testing DataLoader 0:  73%|███████▎  | 70/96 [00:01<00:00, 64.62it/s]torch.Size([32])\n",
      "torch.Size([32])\n",
      "Testing DataLoader 0:  74%|███████▍  | 71/96 [00:01<00:00, 64.70it/s]torch.Size([32])\n",
      "torch.Size([32])\n",
      "Testing DataLoader 0:  75%|███████▌  | 72/96 [00:01<00:00, 64.16it/s]torch.Size([32])\n",
      "torch.Size([32])\n",
      "Testing DataLoader 0:  76%|███████▌  | 73/96 [00:01<00:00, 64.22it/s]torch.Size([32])\n",
      "torch.Size([32])\n",
      "Testing DataLoader 0:  77%|███████▋  | 74/96 [00:01<00:00, 64.32it/s]torch.Size([32])\n",
      "torch.Size([32])\n",
      "Testing DataLoader 0:  78%|███████▊  | 75/96 [00:01<00:00, 64.42it/s]torch.Size([32])\n",
      "torch.Size([32])\n",
      "Testing DataLoader 0:  79%|███████▉  | 76/96 [00:01<00:00, 64.53it/s]torch.Size([32])\n",
      "torch.Size([32])\n",
      "Testing DataLoader 0:  80%|████████  | 77/96 [00:01<00:00, 64.70it/s]torch.Size([32])\n",
      "torch.Size([32])\n",
      "Testing DataLoader 0:  81%|████████▏ | 78/96 [00:01<00:00, 64.85it/s]torch.Size([32])\n",
      "torch.Size([32])\n",
      "Testing DataLoader 0:  82%|████████▏ | 79/96 [00:01<00:00, 64.97it/s]torch.Size([32])\n",
      "torch.Size([32])\n",
      "Testing DataLoader 0:  83%|████████▎ | 80/96 [00:01<00:00, 65.11it/s]torch.Size([32])\n",
      "torch.Size([32])\n",
      "Testing DataLoader 0:  84%|████████▍ | 81/96 [00:01<00:00, 65.20it/s]torch.Size([32])\n",
      "torch.Size([32])\n",
      "Testing DataLoader 0:  85%|████████▌ | 82/96 [00:01<00:00, 65.23it/s]torch.Size([32])\n",
      "torch.Size([32])\n",
      "Testing DataLoader 0:  86%|████████▋ | 83/96 [00:01<00:00, 65.33it/s]torch.Size([32])\n",
      "torch.Size([32])\n",
      "Testing DataLoader 0:  88%|████████▊ | 84/96 [00:01<00:00, 65.38it/s]torch.Size([32])\n",
      "torch.Size([32])\n",
      "Testing DataLoader 0:  89%|████████▊ | 85/96 [00:01<00:00, 65.47it/s]torch.Size([32])\n",
      "torch.Size([32])\n",
      "Testing DataLoader 0:  90%|████████▉ | 86/96 [00:01<00:00, 65.53it/s]torch.Size([32])\n",
      "torch.Size([32])\n",
      "Testing DataLoader 0:  91%|█████████ | 87/96 [00:01<00:00, 65.64it/s]torch.Size([32])\n",
      "torch.Size([32])\n",
      "Testing DataLoader 0:  92%|█████████▏| 88/96 [00:01<00:00, 65.69it/s]torch.Size([32])\n",
      "torch.Size([32])\n",
      "Testing DataLoader 0:  93%|█████████▎| 89/96 [00:01<00:00, 65.71it/s]torch.Size([32])\n",
      "torch.Size([32])\n",
      "Testing DataLoader 0:  94%|█████████▍| 90/96 [00:01<00:00, 65.84it/s]torch.Size([32])\n",
      "torch.Size([32])\n",
      "Testing DataLoader 0:  95%|█████████▍| 91/96 [00:01<00:00, 66.01it/s]torch.Size([32])\n",
      "torch.Size([32])\n",
      "Testing DataLoader 0:  96%|█████████▌| 92/96 [00:01<00:00, 66.11it/s]torch.Size([32])\n",
      "torch.Size([32])\n",
      "Testing DataLoader 0:  97%|█████████▋| 93/96 [00:01<00:00, 66.22it/s]torch.Size([32])\n",
      "torch.Size([32])\n",
      "Testing DataLoader 0:  98%|█████████▊| 94/96 [00:01<00:00, 66.25it/s]torch.Size([32])\n",
      "torch.Size([32])\n",
      "Testing DataLoader 0:  99%|█████████▉| 95/96 [00:01<00:00, 66.29it/s]torch.Size([32])\n",
      "torch.Size([32])\n",
      "Testing DataLoader 0: 100%|██████████| 96/96 [00:01<00:00, 66.28it/s]\n"
     ]
    },
    {
     "data": {
      "text/html": [
       "<pre style=\"white-space:pre;overflow-x:auto;line-height:normal;font-family:Menlo,'DejaVu Sans Mono',consolas,'Courier New',monospace\">┏━━━━━━━━━━━━━━━━━━━━━━━━━━━┳━━━━━━━━━━━━━━━━━━━━━━━━━━━┓\n",
       "┃<span style=\"font-weight: bold\">        Test metric        </span>┃<span style=\"font-weight: bold\">       DataLoader 0        </span>┃\n",
       "┡━━━━━━━━━━━━━━━━━━━━━━━━━━━╇━━━━━━━━━━━━━━━━━━━━━━━━━━━┩\n",
       "│<span style=\"color: #008080; text-decoration-color: #008080\">       test_accuracy       </span>│<span style=\"color: #800080; text-decoration-color: #800080\">            0.0            </span>│\n",
       "│<span style=\"color: #008080; text-decoration-color: #008080\">         test_loss         </span>│<span style=\"color: #800080; text-decoration-color: #800080\">    0.6909841895103455     </span>│\n",
       "└───────────────────────────┴───────────────────────────┘\n",
       "</pre>\n"
      ],
      "text/plain": [
       "┏━━━━━━━━━━━━━━━━━━━━━━━━━━━┳━━━━━━━━━━━━━━━━━━━━━━━━━━━┓\n",
       "┃\u001b[1m \u001b[0m\u001b[1m       Test metric       \u001b[0m\u001b[1m \u001b[0m┃\u001b[1m \u001b[0m\u001b[1m      DataLoader 0       \u001b[0m\u001b[1m \u001b[0m┃\n",
       "┡━━━━━━━━━━━━━━━━━━━━━━━━━━━╇━━━━━━━━━━━━━━━━━━━━━━━━━━━┩\n",
       "│\u001b[36m \u001b[0m\u001b[36m      test_accuracy      \u001b[0m\u001b[36m \u001b[0m│\u001b[35m \u001b[0m\u001b[35m           0.0           \u001b[0m\u001b[35m \u001b[0m│\n",
       "│\u001b[36m \u001b[0m\u001b[36m        test_loss        \u001b[0m\u001b[36m \u001b[0m│\u001b[35m \u001b[0m\u001b[35m   0.6909841895103455    \u001b[0m\u001b[35m \u001b[0m│\n",
       "└───────────────────────────┴───────────────────────────┘\n"
      ]
     },
     "metadata": {},
     "output_type": "display_data"
    }
   ],
   "source": [
    "mod = CNN.load_from_checkpoint(\"lightning_logs/version_45/checkpoints/epoch=39-step=30600.ckpt\")\n",
    "\n",
    "\n",
    "x = torch.randn(32,1,768)\n",
    "\n",
    "\n",
    "trainer = pl.Trainer(max_epochs = 40)\n",
    "\n",
    "data_module = MyDataModule()\n",
    "\n",
    "p = trainer.test(mod, data_module)\n",
    "\n"
   ]
  },
  {
   "cell_type": "code",
   "execution_count": 10,
   "metadata": {},
   "outputs": [
    {
     "name": "stderr",
     "output_type": "stream",
     "text": [
      "GPU available: True (cuda), used: True\n",
      "TPU available: False, using: 0 TPU cores\n",
      "IPU available: False, using: 0 IPUs\n",
      "HPU available: False, using: 0 HPUs\n",
      "LOCAL_RANK: 0 - CUDA_VISIBLE_DEVICES: [0]\n"
     ]
    },
    {
     "name": "stdout",
     "output_type": "stream",
     "text": [
      "Testing DataLoader 0: 100%|██████████| 96/96 [00:01<00:00, 64.96it/s]\n"
     ]
    },
    {
     "data": {
      "text/html": [
       "<pre style=\"white-space:pre;overflow-x:auto;line-height:normal;font-family:Menlo,'DejaVu Sans Mono',consolas,'Courier New',monospace\">┏━━━━━━━━━━━━━━━━━━━━━━━━━━━┳━━━━━━━━━━━━━━━━━━━━━━━━━━━┓\n",
       "┃<span style=\"font-weight: bold\">        Test metric        </span>┃<span style=\"font-weight: bold\">       DataLoader 0        </span>┃\n",
       "┡━━━━━━━━━━━━━━━━━━━━━━━━━━━╇━━━━━━━━━━━━━━━━━━━━━━━━━━━┩\n",
       "│<span style=\"color: #008080; text-decoration-color: #008080\">       test_accuracy       </span>│<span style=\"color: #800080; text-decoration-color: #800080\">       0.5322265625        </span>│\n",
       "│<span style=\"color: #008080; text-decoration-color: #008080\">         test_loss         </span>│<span style=\"color: #800080; text-decoration-color: #800080\">    0.6910873055458069     </span>│\n",
       "└───────────────────────────┴───────────────────────────┘\n",
       "</pre>\n"
      ],
      "text/plain": [
       "┏━━━━━━━━━━━━━━━━━━━━━━━━━━━┳━━━━━━━━━━━━━━━━━━━━━━━━━━━┓\n",
       "┃\u001b[1m \u001b[0m\u001b[1m       Test metric       \u001b[0m\u001b[1m \u001b[0m┃\u001b[1m \u001b[0m\u001b[1m      DataLoader 0       \u001b[0m\u001b[1m \u001b[0m┃\n",
       "┡━━━━━━━━━━━━━━━━━━━━━━━━━━━╇━━━━━━━━━━━━━━━━━━━━━━━━━━━┩\n",
       "│\u001b[36m \u001b[0m\u001b[36m      test_accuracy      \u001b[0m\u001b[36m \u001b[0m│\u001b[35m \u001b[0m\u001b[35m      0.5322265625       \u001b[0m\u001b[35m \u001b[0m│\n",
       "│\u001b[36m \u001b[0m\u001b[36m        test_loss        \u001b[0m\u001b[36m \u001b[0m│\u001b[35m \u001b[0m\u001b[35m   0.6910873055458069    \u001b[0m\u001b[35m \u001b[0m│\n",
       "└───────────────────────────┴───────────────────────────┘\n"
      ]
     },
     "metadata": {},
     "output_type": "display_data"
    },
    {
     "name": "stderr",
     "output_type": "stream",
     "text": [
      "LOCAL_RANK: 0 - CUDA_VISIBLE_DEVICES: [0]\n",
      "\n",
      "  | Name            | Type              | Params\n",
      "------------------------------------------------------\n",
      "0 | conv1           | Conv1d            | 128   \n",
      "1 | conv2           | Conv1d            | 6.2 K \n",
      "2 | conv3           | Conv1d            | 24.7 K\n",
      "3 | pool            | MaxPool1d         | 0     \n",
      "4 | global_avg_pool | AdaptiveAvgPool1d | 0     \n",
      "5 | fc1             | Linear            | 8.3 K \n",
      "6 | fc2             | Linear            | 65    \n",
      "7 | sigmoid         | Sigmoid           | 0     \n",
      "8 | accuracy        | BinaryAccuracy    | 0     \n",
      "------------------------------------------------------\n",
      "39.4 K    Trainable params\n",
      "0         Non-trainable params\n",
      "39.4 K    Total params\n",
      "0.157     Total estimated model params size (MB)\n"
     ]
    },
    {
     "name": "stdout",
     "output_type": "stream",
     "text": [
      "Epoch 39: 100%|██████████| 765/765 [00:13<00:00, 57.47it/s, v_num=45]       "
     ]
    },
    {
     "name": "stderr",
     "output_type": "stream",
     "text": [
      "`Trainer.fit` stopped: `max_epochs=40` reached.\n"
     ]
    },
    {
     "name": "stdout",
     "output_type": "stream",
     "text": [
      "Epoch 39: 100%|██████████| 765/765 [00:13<00:00, 57.44it/s, v_num=45]\n"
     ]
    },
    {
     "name": "stderr",
     "output_type": "stream",
     "text": [
      "LOCAL_RANK: 0 - CUDA_VISIBLE_DEVICES: [0]\n"
     ]
    },
    {
     "name": "stdout",
     "output_type": "stream",
     "text": [
      "Testing DataLoader 0: 100%|██████████| 96/96 [00:01<00:00, 66.96it/s]\n"
     ]
    },
    {
     "data": {
      "text/html": [
       "<pre style=\"white-space:pre;overflow-x:auto;line-height:normal;font-family:Menlo,'DejaVu Sans Mono',consolas,'Courier New',monospace\">┏━━━━━━━━━━━━━━━━━━━━━━━━━━━┳━━━━━━━━━━━━━━━━━━━━━━━━━━━┓\n",
       "┃<span style=\"font-weight: bold\">        Test metric        </span>┃<span style=\"font-weight: bold\">       DataLoader 0        </span>┃\n",
       "┡━━━━━━━━━━━━━━━━━━━━━━━━━━━╇━━━━━━━━━━━━━━━━━━━━━━━━━━━┩\n",
       "│<span style=\"color: #008080; text-decoration-color: #008080\">       test_accuracy       </span>│<span style=\"color: #800080; text-decoration-color: #800080\">       0.5322265625        </span>│\n",
       "│<span style=\"color: #008080; text-decoration-color: #008080\">         test_loss         </span>│<span style=\"color: #800080; text-decoration-color: #800080\">    0.6909841895103455     </span>│\n",
       "└───────────────────────────┴───────────────────────────┘\n",
       "</pre>\n"
      ],
      "text/plain": [
       "┏━━━━━━━━━━━━━━━━━━━━━━━━━━━┳━━━━━━━━━━━━━━━━━━━━━━━━━━━┓\n",
       "┃\u001b[1m \u001b[0m\u001b[1m       Test metric       \u001b[0m\u001b[1m \u001b[0m┃\u001b[1m \u001b[0m\u001b[1m      DataLoader 0       \u001b[0m\u001b[1m \u001b[0m┃\n",
       "┡━━━━━━━━━━━━━━━━━━━━━━━━━━━╇━━━━━━━━━━━━━━━━━━━━━━━━━━━┩\n",
       "│\u001b[36m \u001b[0m\u001b[36m      test_accuracy      \u001b[0m\u001b[36m \u001b[0m│\u001b[35m \u001b[0m\u001b[35m      0.5322265625       \u001b[0m\u001b[35m \u001b[0m│\n",
       "│\u001b[36m \u001b[0m\u001b[36m        test_loss        \u001b[0m\u001b[36m \u001b[0m│\u001b[35m \u001b[0m\u001b[35m   0.6909841895103455    \u001b[0m\u001b[35m \u001b[0m│\n",
       "└───────────────────────────┴───────────────────────────┘\n"
      ]
     },
     "metadata": {},
     "output_type": "display_data"
    },
    {
     "name": "stdout",
     "output_type": "stream",
     "text": [
      "Loss sul set di validazione: [{'test_loss': 0.6909841895103455, 'test_accuracy': 0.5322265625}]\n"
     ]
    }
   ],
   "source": [
    "\n",
    "\n",
    "trainer = pl.Trainer(max_epochs = 40)\n",
    "\n",
    "data_module = MyDataModule()\n",
    "\n",
    "p = trainer.test(model, data_module)\n",
    "\n",
    "\n",
    "trainer.fit(model, data_module)\n",
    "# Valutazione del modello\n",
    "p = trainer.test(model, data_module)\n",
    "print(\"Loss sul set di validazione:\", p)\n"
   ]
  }
 ],
 "metadata": {
  "kernelspec": {
   "display_name": "bioInfo",
   "language": "python",
   "name": "python3"
  },
  "language_info": {
   "codemirror_mode": {
    "name": "ipython",
    "version": 3
   },
   "file_extension": ".py",
   "mimetype": "text/x-python",
   "name": "python",
   "nbconvert_exporter": "python",
   "pygments_lexer": "ipython3",
   "version": "3.10.13"
  }
 },
 "nbformat": 4,
 "nbformat_minor": 2
}
