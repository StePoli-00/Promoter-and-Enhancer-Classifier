{
 "cells": [
  {
   "cell_type": "code",
   "execution_count": 1,
   "metadata": {},
   "outputs": [],
   "source": [
    "import random\n",
    "from Bio import SeqIO\n",
    "import csv"
   ]
  },
  {
   "cell_type": "code",
   "execution_count": 2,
   "metadata": {},
   "outputs": [],
   "source": [
    "PROMOTER_PATH = \"promoter_mixed.fa\"\n",
    "CSV_PATH=\"dataset_different_size.csv\"\n",
    "ENHANCER_PATH = \"../Data/enhancer.txt\"\n",
    "MAX_SEQ_ENHANCER_LENGTH=1000"
   ]
  },
  {
   "cell_type": "code",
   "execution_count": 3,
   "metadata": {},
   "outputs": [],
   "source": [
    "class enhancer:\n",
    "    def __init__(self, gene, sequence):\n",
    "        self.gene = gene\n",
    "        self.sequence = sequence\n",
    "    def __str__(self):\n",
    "        return \"Gene: \"+ str(self.gene) +\" sequence: \"+ str(self.sequence)+\"\\n\"\n",
    "\n",
    "class elem:\n",
    "    def __init__(self, sequence, classe):\n",
    "        self.sequence = sequence\n",
    "        self.classe = classe\n",
    "        \n",
    "class promoter:\n",
    "    def __init__(self, nome, sequence):\n",
    "        self.nome = nome\n",
    "        self.sequence = sequence"
   ]
  },
  {
   "cell_type": "code",
   "execution_count": 4,
   "metadata": {},
   "outputs": [],
   "source": [
    "def create_dataset(data,label):\n",
    "  dataset=[]\n",
    "  for i in data:\n",
    "    tmp = elem(i.sequence, label)\n",
    "    dataset.append(tmp)\n",
    "  return dataset"
   ]
  },
  {
   "cell_type": "code",
   "execution_count": 5,
   "metadata": {},
   "outputs": [],
   "source": [
    "with open(ENHANCER_PATH,\"r\") as file_enhancer:\n",
    "    enhancer_list = []\n",
    "    for line in file_enhancer:\n",
    "      gene, sequence = line.split('\\t')\n",
    "      tmp = enhancer(gene, sequence)\n",
    "      enhancer_list.append(tmp)"
   ]
  },
  {
   "cell_type": "code",
   "execution_count": 6,
   "metadata": {},
   "outputs": [
    {
     "name": "stdout",
     "output_type": "stream",
     "text": [
      "number of enhancer: 418\n"
     ]
    }
   ],
   "source": [
    "print(f\"number of enhancer: {len(enhancer_list)}\")"
   ]
  },
  {
   "cell_type": "code",
   "execution_count": 7,
   "metadata": {},
   "outputs": [],
   "source": [
    "for item in enhancer_list:\n",
    "  item.sequence = item.sequence[:-1]"
   ]
  },
  {
   "cell_type": "markdown",
   "metadata": {},
   "source": [
    "Code part to cut enhancer longer than MAX_SEQ_ENHANCER_LENGTH with this sliding window approach\n",
    "we create more enchancer from a single one"
   ]
  },
  {
   "cell_type": "code",
   "execution_count": 8,
   "metadata": {},
   "outputs": [],
   "source": [
    "i = 0\n",
    "while 1:\n",
    "  if(i >= len(enhancer_list)) :\n",
    "    break\n",
    "  if (len(enhancer_list[i].sequence)> MAX_SEQ_ENHANCER_LENGTH):\n",
    "    copy = enhancer_list[i].sequence\n",
    "    tmp = enhancer(enhancer_list[i].gene, copy[MAX_SEQ_ENHANCER_LENGTH:])\n",
    "    enhancer_list.append(tmp)\n",
    "    enhancer_list[i].sequence = copy[0:MAX_SEQ_ENHANCER_LENGTH]\n",
    "\n",
    "  # if(len(enhancer_list[i].sequence)< MAX_SEQ_ENHANCER_LENGTH):\n",
    "  #   copy = enhancer_list[i].sequence\n",
    "  #   while (len(copy)< MAX_SEQ_ENHANCER_LENGTH):\n",
    "  #     copy += 'N'\n",
    "  #   enhancer_list[i].sequence = copy[0:MAX_SEQ_ENHANCER_LENGTH]\n",
    "  i += 1"
   ]
  },
  {
   "cell_type": "markdown",
   "metadata": {},
   "source": [
    "Promoter Handler"
   ]
  },
  {
   "cell_type": "code",
   "execution_count": 9,
   "metadata": {},
   "outputs": [],
   "source": [
    "promoter_list = []\n",
    "# Open fasta file to read sequences\n",
    "with open(PROMOTER_PATH, \"r\") as handle:\n",
    "    for record in SeqIO.parse(handle, \"fasta\"):\n",
    "       id = record.id\n",
    "       sequence = record.seq\n",
    "       tmp = promoter(id, sequence)\n",
    "       promoter_list.append(tmp)"
   ]
  },
  {
   "cell_type": "code",
   "execution_count": 10,
   "metadata": {},
   "outputs": [
    {
     "name": "stdout",
     "output_type": "stream",
     "text": [
      "number of promoter: 7177\n"
     ]
    }
   ],
   "source": [
    "print(f\"number of promoter: {len(promoter_list)}\")"
   ]
  },
  {
   "cell_type": "code",
   "execution_count": 11,
   "metadata": {},
   "outputs": [
    {
     "name": "stdout",
     "output_type": "stream",
     "text": [
      "promoter dim: 7177\n",
      "enhancer_dim: 8526\n"
     ]
    }
   ],
   "source": [
    "enchancer_dataset=create_dataset(enhancer_list,0)\n",
    "promoter_dataset=create_dataset(promoter_list,1)\n",
    "\n",
    "dim_en=len(enchancer_dataset)\n",
    "dim_prom=len(promoter_dataset)\n",
    "print(f\"promoter dim: {dim_prom}\")\n",
    "print(f\"enhancer_dim: {dim_en}\")"
   ]
  },
  {
   "cell_type": "code",
   "execution_count": 12,
   "metadata": {},
   "outputs": [],
   "source": [
    "\"\"\"Balance Dataset \"\"\"\n",
    "if dim_en>dim_prom:\n",
    "    diff=dim_en-dim_prom\n",
    "    for i in range(diff):\n",
    "      item = random.choice(promoter_dataset)\n",
    "      promoter_dataset.append(item)\n",
    "\n",
    "elif dim_prom>dim_en:\n",
    "   diff=dim_prom-dim_en\n",
    "   for i in range(diff):\n",
    "      item = random.choice(enchancer_dataset)\n",
    "      enchancer_dataset.append(item)"
   ]
  },
  {
   "cell_type": "code",
   "execution_count": 13,
   "metadata": {},
   "outputs": [
    {
     "name": "stdout",
     "output_type": "stream",
     "text": [
      "lenght of the dataset 17052\n"
     ]
    }
   ],
   "source": [
    "dataset=promoter_dataset+enchancer_dataset\n",
    "\n",
    "print(f\"lenght of the dataset {len(dataset)}\")\n",
    "\"\"\"shuffle the data to have unordered data \"\"\"\n",
    "random.shuffle(dataset)"
   ]
  },
  {
   "cell_type": "code",
   "execution_count": 15,
   "metadata": {},
   "outputs": [],
   "source": [
    "data = [(elem.sequence, elem.classe) for elem in dataset]\n",
    "\n",
    "\"\"\"save dataset into a csv file\"\"\"\n",
    "\n",
    "with open(CSV_PATH, \"w\", newline=\"\") as csvfile:\n",
    "  csvfile.write(\"sequence,label\\n\")\n",
    "  # Crea un writer CSV\n",
    "  writer = csv.writer(csvfile)\n",
    "\n",
    "  # Scrivi la lista nel file CSV\n",
    "  writer.writerows(data)\n",
    "\n",
    "# Chiudi il file CSV\n",
    "csvfile.close()"
   ]
  }
 ],
 "metadata": {
  "kernelspec": {
   "display_name": "bio_informatics",
   "language": "python",
   "name": "python3"
  },
  "language_info": {
   "codemirror_mode": {
    "name": "ipython",
    "version": 3
   },
   "file_extension": ".py",
   "mimetype": "text/x-python",
   "name": "python",
   "nbconvert_exporter": "python",
   "pygments_lexer": "ipython3",
   "version": "3.10.13"
  }
 },
 "nbformat": 4,
 "nbformat_minor": 2
}
